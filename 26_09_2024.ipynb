{
 "cells": [
  {
   "cell_type": "code",
   "execution_count": 1,
   "metadata": {},
   "outputs": [
    {
     "name": "stdout",
     "output_type": "stream",
     "text": [
      "enter the side:4\n",
      "area of the square is: 16\n"
     ]
    }
   ],
   "source": [
    "s=int(input(\"enter the side:\"))\n",
    "area=s**2\n",
    "print(\"area of the square is:\",area)\n",
    "      "
   ]
  },
  {
   "cell_type": "code",
   "execution_count": 2,
   "metadata": {},
   "outputs": [
    {
     "name": "stdout",
     "output_type": "stream",
     "text": [
      "enter the base:3\n",
      "enter the height:9\n",
      "area= 13.5\n"
     ]
    }
   ],
   "source": [
    "base=int(input(\"enter the base:\"))\n",
    "height=int(input(\"enter the height:\"))\n",
    "area=base* height/2\n",
    "print(\"area=\",area)\n"
   ]
  },
  {
   "cell_type": "code",
   "execution_count": 3,
   "metadata": {},
   "outputs": [
    {
     "name": "stdout",
     "output_type": "stream",
     "text": [
      "enter your name:salman\n",
      "hello salman !\n"
     ]
    }
   ],
   "source": [
    "name=input(\"enter your name:\")\n",
    "print(\"hello\",name,'!')\n"
   ]
  },
  {
   "cell_type": "code",
   "execution_count": 7,
   "metadata": {},
   "outputs": [
    {
     "name": "stdout",
     "output_type": "stream",
     "text": [
      "enter a number:3\n",
      "the previous number 2\n",
      "the number after 4\n"
     ]
    }
   ],
   "source": [
    "a=int(input(\"enter a number:\"))\n",
    "b=a-1\n",
    "c=a+1\n",
    "print(\"the previous number\",b)\n",
    "print(\"the number after\",c)\n"
   ]
  },
  {
   "cell_type": "code",
   "execution_count": 8,
   "metadata": {},
   "outputs": [
    {
     "name": "stdout",
     "output_type": "stream",
     "text": [
      "enter the priniple amount:2000\n",
      "enter the rate:4\n",
      "enter the time:2\n",
      "the simple interest is 160.0\n"
     ]
    }
   ],
   "source": [
    "p=int(input(\"enter the priniple amount:\"))\n",
    "r=int(input(\"enter the rate:\"))\n",
    "t=int(input(\"enter the time:\"))\n",
    "sI=p*r*t/100\n",
    "print(\"the simple interest is\",sI)\n"
   ]
  },
  {
   "cell_type": "code",
   "execution_count": null,
   "metadata": {},
   "outputs": [],
   "source": []
  }
 ],
 "metadata": {
  "kernelspec": {
   "display_name": "Python 3",
   "language": "python",
   "name": "python3"
  },
  "language_info": {
   "codemirror_mode": {
    "name": "ipython",
    "version": 3
   },
   "file_extension": ".py",
   "mimetype": "text/x-python",
   "name": "python",
   "nbconvert_exporter": "python",
   "pygments_lexer": "ipython3",
   "version": "3.6.9"
  }
 },
 "nbformat": 4,
 "nbformat_minor": 2
}
