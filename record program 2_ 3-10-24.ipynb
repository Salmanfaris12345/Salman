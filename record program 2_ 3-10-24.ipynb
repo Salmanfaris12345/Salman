{
 "cells": [
  {
   "cell_type": "code",
   "execution_count": 1,
   "metadata": {},
   "outputs": [
    {
     "name": "stdout",
     "output_type": "stream",
     "text": [
      "enter the temperature in celsius:30\n",
      "30.0°c is equal to86.0°F\n"
     ]
    }
   ],
   "source": [
    "#convert celsius to fahrenheit\n",
    "c=float(input(\"enter the temperature in celsius:\"))\n",
    "f=(c*9/5)+32\n",
    "print(f\"{c}°c is equal to{f}°F\")\n"
   ]
  },
  {
   "cell_type": "code",
   "execution_count": 2,
   "metadata": {},
   "outputs": [
    {
     "name": "stdout",
     "output_type": "stream",
     "text": [
      "Enter the distance in kilometers:20\n",
      "20.0 kilometers is equal to12.427400miles\n"
     ]
    }
   ],
   "source": [
    "#Convert km to miles\n",
    "km=float(input(\"Enter the distance in kilometers:\"))\n",
    "m=km*0.62137\n",
    "print(f\"{km} kilometers is equal to{m:2f}miles\")\n"
   ]
  },
  {
   "cell_type": "code",
   "execution_count": 8,
   "metadata": {},
   "outputs": [
    {
     "name": "stdout",
     "output_type": "stream",
     "text": [
      "Enter the price of first product: $150\n",
      "Enter the price of second product: $200\n",
      "Enter the price of third product: $250\n",
      "Total price before discount: $600.00\n",
      "Final price after 15% discount: $510.00\n",
      "Average price of the products: $200.00\n",
      "Is the first product more expensive than the final price? No\n",
      "Is the second product more expensive than the final price? No\n",
      "Is the third product more expensive than the final price? No\n",
      "Does the final price fall within the range of $50 to $200? No\n"
     ]
    }
   ],
   "source": [
    "# Calculate price\n",
    "price1 = float(input(\"Enter the price of first product: $\"))\n",
    "price2 = float(input(\"Enter the price of second product: $\"))\n",
    "price3 = float(input(\"Enter the price of third product: $\"))\n",
    "\n",
    "Total_p = price1 + price2 + price3\n",
    "print(f\"Total price before discount: ${Total_p:.2f}\")\n",
    "\n",
    "discount = 0.15\n",
    "final_p = Total_p * (1 - discount)\n",
    "print(f\"Final price after 15% discount: ${final_p:.2f}\")\n",
    "\n",
    "avg_p = Total_p / 3\n",
    "print(f\"Average price of the products: ${avg_p:.2f}\")\n",
    "\n",
    "is_price1_higher = price1 > final_p\n",
    "is_price2_higher = price2 > final_p\n",
    "is_price3_higher = price3 > final_p\n",
    "\n",
    "print(f\"Is the first product more expensive than the final price? {'Yes' if is_price1_higher else 'No'}\")\n",
    "print(f\"Is the second product more expensive than the final price? {'Yes' if is_price2_higher else 'No'}\")\n",
    "print(f\"Is the third product more expensive than the final price? {'Yes' if is_price3_higher else 'No'}\")\n",
    "\n",
    "is_in_range = 50 <= final_p <= 200\n",
    "print(f\"Does the final price fall within the range of $50 to $200? {'Yes' if is_in_range else 'No'}\")\n"
   ]
  },
  {
   "cell_type": "code",
   "execution_count": null,
   "metadata": {},
   "outputs": [],
   "source": []
  }
 ],
 "metadata": {
  "kernelspec": {
   "display_name": "Python 3",
   "language": "python",
   "name": "python3"
  },
  "language_info": {
   "codemirror_mode": {
    "name": "ipython",
    "version": 3
   },
   "file_extension": ".py",
   "mimetype": "text/x-python",
   "name": "python",
   "nbconvert_exporter": "python",
   "pygments_lexer": "ipython3",
   "version": "3.6.9"
  }
 },
 "nbformat": 4,
 "nbformat_minor": 2
}
