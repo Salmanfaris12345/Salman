
{
 "cells": [
  {
   "cell_type": "code",
   "execution_count": 1,
   "metadata": {},
   "outputs": [
    {
     "name": "stdout",
     "output_type": "stream",
     "text": [
      "enter an integer:5\n",
      "5+55+555=615\n"
     ]
    }
   ],
   "source": [
    "#compute n+nn+nnn\n",
    "n=input(\"enter an integer:\")\n",
    "n1=int(n)\n",
    "n2=int(n*2)\n",
    "n3=int(n*3)\n",
    "result=n1+n2+n3\n",
    "print(f\"{n1}+{n2}+{n3}={result}\")\n"
   ]
  },
  {
   "cell_type": "code",
   "execution_count": 2,
   "metadata": {},
   "outputs": [
    {
     "name": "stdout",
     "output_type": "stream",
     "text": [
      "enter radius of the circle:8\n",
      "the area of circle is201.06192982974676\n"
     ]
    }
   ],
   "source": [
    "#area of circle\n",
    "import math\n",
    "radius=float(input(\"enter radius of the circle:\"))\n",
    "area=math.pi*radius**2\n",
    "print(f\"the area of circle is{area}\")\n"
   ]
  },
  {
   "cell_type": "code",
   "execution_count": 3,
   "metadata": {},
   "outputs": [
    {
     "name": "stdout",
     "output_type": "stream",
     "text": [
      "Enter the first number:6\n",
      "Enter the second number:12\n",
      "Enter the third number:18\n",
      "The largest number is:18.0\n"
     ]
    }
   ],
   "source": [
    "#largest of three numbers\n",
    "num1=float(input(\"Enter the first number:\"))\n",
    "num2=float(input(\"Enter the second number:\"))\n",
    "num3=float(input(\"Enter the third number:\"))\n",
    "largest=max(num1, num2, num3)\n",
    "print(f\"The largest number is:{largest}\")\n",
    "\n"
   ]
  },
  {
   "cell_type": "code",
   "execution_count": null,
   "metadata": {},
   "outputs": [],
   "source": []
  }
 ],
 "metadata": {
  "kernelspec": {
   "display_name": "Python 3",
   "language": "python",
   "name": "python3"
  },
  "language_info": {
   "codemirror_mode": {
    "name": "ipython",
    "version": 3
   },
   "file_extension": ".py",
   "mimetype": "text/x-python",
   "name": "python",
   "nbconvert_exporter": "python",
   "pygments_lexer": "ipython3",
   "version": "3.6.9"
  }
 },
 "nbformat": 4,
 "nbformat_minor": 2
}
